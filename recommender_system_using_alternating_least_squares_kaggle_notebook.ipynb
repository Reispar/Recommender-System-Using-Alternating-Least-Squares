{
  "metadata": {
    "kernelspec": {
      "language": "python",
      "display_name": "Python 3",
      "name": "python3"
    },
    "language_info": {
      "name": "python",
      "version": "3.7.12",
      "mimetype": "text/x-python",
      "codemirror_mode": {
        "name": "ipython",
        "version": 3
      },
      "pygments_lexer": "ipython3",
      "nbconvert_exporter": "python",
      "file_extension": ".py"
    },
    "colab": {
      "name": "recommender-system-using-alternating-least-squares-kaggle-notebook.ipynb",
      "provenance": []
    }
  },
  "nbformat_minor": 0,
  "nbformat": 4,
  "cells": [
    {
      "cell_type": "code",
      "source": [
        "# This Python 3 environment comes with many helpful analytics libraries installed\n",
        "# It is defined by the kaggle/python Docker image: https://github.com/kaggle/docker-python\n",
        "# For example, here's several helpful packages to load\n",
        "\n",
        "import numpy as np # linear algebra\n",
        "import pandas as pd # data processing, CSV file I/O (e.g. pd.read_csv)\n",
        "\n",
        "# Input data files are available in the read-only \"../input/\" directory\n",
        "# For example, running this (by clicking run or pressing Shift+Enter) will list all files under the input directory\n",
        "\n",
        "import os\n",
        "for dirname, _, filenames in os.walk('/kaggle/input'):\n",
        "    for filename in filenames:\n",
        "        print(os.path.join(dirname, filename))\n",
        "\n",
        "# You can write up to 20GB to the current directory (/kaggle/working/) that gets preserved as output when you create a version using \"Save & Run All\" \n",
        "# You can also write temporary files to /kaggle/temp/, but they won't be saved outside of the current session"
      ],
      "metadata": {
        "_uuid": "8f2839f25d086af736a60e9eeb907d3b93b6e0e5",
        "_cell_guid": "b1076dfc-b9ad-4769-8c92-a6c4dae69d19",
        "execution": {
          "iopub.status.busy": "2022-01-19T12:20:53.414987Z",
          "iopub.execute_input": "2022-01-19T12:20:53.415485Z",
          "iopub.status.idle": "2022-01-19T12:20:53.446012Z",
          "shell.execute_reply.started": "2022-01-19T12:20:53.415365Z",
          "shell.execute_reply": "2022-01-19T12:20:53.445333Z"
        },
        "trusted": true,
        "id": "-1gZGYP5fdzz"
      },
      "execution_count": null,
      "outputs": []
    },
    {
      "cell_type": "markdown",
      "source": [
        "Kaggle Noteboook -[my link](https://www.kaggle.com/tolulade/recommender-system-using-alternating-least-squares)"
      ],
      "metadata": {
        "id": "JTFWumeOfd0S"
      }
    },
    {
      "cell_type": "markdown",
      "source": [
        "# With Implicit Feedback Datasets\n",
        "\n",
        "Unlike Explicit feedback, Implicit feedback can be tracked automatically such as events/occurrence on a site, monitoring clicks, view times, purchases, and so on.\n",
        "\n",
        "They are much easier to collect.\n",
        "\n",
        "\n",
        "**Project Goal:**\n",
        "\n",
        "Build an item recommendation system by creating specific ranking for a set of items per user.\n",
        "\n",
        "To determine user preferences about each items, we are going to have to learn from the past user interaction with the system. For exaple, online purchasing, gaming, etc.\n",
        "\n",
        "For the case of online purchasing, in other words, we can say that we are building a recommender system that provides personalised recommendations to customers based on their purchasing history."
      ],
      "metadata": {
        "id": "OzY76lDafd0d"
      }
    },
    {
      "cell_type": "markdown",
      "source": [
        "## Data Extraction from Repo\n",
        "\n",
        "Let's source for our datasets.\n",
        "\n",
        "For this exercise, we are going to make use of this dataset- online retail dataset from UCI machine learning repository. And we will be using Implicit Library, a Fast Python Collaborative Filtering for Implicit Datasets, for our matrix factorization.\n",
        "\n",
        "[Source dataset](https://archive.ics.uci.edu/ml/datasets/online+retail)"
      ],
      "metadata": {
        "id": "7_MGt2kWfd0l"
      }
    },
    {
      "cell_type": "markdown",
      "source": [
        "For my dataset extraction and download, I can do either of these.\n",
        "\n",
        "Upload to github and extract from git to kaggle\n",
        "Upload to kaggle data drive, then get data\n",
        "Use the **wget command** to get the data directly from the web source/data repo on web"
      ],
      "metadata": {
        "id": "0G5d6B4Gfd0o"
      }
    },
    {
      "cell_type": "code",
      "source": [
        "!wget https://archive.ics.uci.edu/ml/machine-learning-databases/00352/Online%20Retail.xlsx"
      ],
      "metadata": {
        "execution": {
          "iopub.status.busy": "2022-01-19T12:21:18.613855Z",
          "iopub.execute_input": "2022-01-19T12:21:18.614476Z",
          "iopub.status.idle": "2022-01-19T12:21:21.872061Z",
          "shell.execute_reply.started": "2022-01-19T12:21:18.614439Z",
          "shell.execute_reply": "2022-01-19T12:21:21.871258Z"
        },
        "trusted": true,
        "id": "-ojvidcDfd0r"
      },
      "execution_count": null,
      "outputs": []
    },
    {
      "cell_type": "markdown",
      "source": [
        "Notice that the data is in xlsx and not csv.\n",
        "\n",
        "Also, let's import libraries. \n",
        "\n",
        "[Implicit python docs](https://pypi.org/project/implicit/)"
      ],
      "metadata": {
        "id": "UE1GefV2fd0u"
      }
    },
    {
      "cell_type": "code",
      "source": [
        "!pip install openpyxl #for kaggle - python excel reader "
      ],
      "metadata": {
        "execution": {
          "iopub.status.busy": "2022-01-19T12:25:17.766053Z",
          "iopub.execute_input": "2022-01-19T12:25:17.766480Z",
          "iopub.status.idle": "2022-01-19T12:25:28.077836Z",
          "shell.execute_reply.started": "2022-01-19T12:25:17.766446Z",
          "shell.execute_reply": "2022-01-19T12:25:28.077004Z"
        },
        "trusted": true,
        "id": "ZVXvseiWfd0z"
      },
      "execution_count": null,
      "outputs": []
    },
    {
      "cell_type": "code",
      "source": [
        "import sys\n",
        "import pandas as pd\n",
        "import numpy as np\n",
        "import scipy.sparse as sparse\n",
        "from scipy.sparse.linalg import spsolve\n",
        "import random\n",
        "from sklearn import metrics\n",
        "from sklearn.preprocessing import MinMaxScaler\n",
        "import implicit\n",
        "import openpyxl\n",
        "\n",
        "online_retail = pd.read_excel('https://archive.ics.uci.edu/ml/machine-learning-databases/00352/Online%20Retail.xlsx')\n",
        "online_retail"
      ],
      "metadata": {
        "execution": {
          "iopub.status.busy": "2022-01-19T12:25:31.851791Z",
          "iopub.execute_input": "2022-01-19T12:25:31.852072Z",
          "iopub.status.idle": "2022-01-19T12:26:56.484342Z",
          "shell.execute_reply.started": "2022-01-19T12:25:31.852042Z",
          "shell.execute_reply": "2022-01-19T12:26:56.483600Z"
        },
        "trusted": true,
        "id": "o9jniHumfd03"
      },
      "execution_count": null,
      "outputs": []
    },
    {
      "cell_type": "code",
      "source": [
        "# !apt install cuda #might not be needed as implicit installation worked in kaggle"
      ],
      "metadata": {
        "id": "m2tSuLycfd08"
      },
      "execution_count": null,
      "outputs": []
    },
    {
      "cell_type": "code",
      "source": [
        "# !pip install git+https://github.com/benfred/implicit.git@18a8010b07e8a86f8eb37f837b5bbda11647501f ##might not be needed as implicit installation imported in kaggle unlike\n",
        "    #google colab and jupyter notebook"
      ],
      "metadata": {
        "id": "NMc6zsaZfd0_"
      },
      "execution_count": null,
      "outputs": []
    },
    {
      "cell_type": "code",
      "source": [
        "online_retail.info()"
      ],
      "metadata": {
        "execution": {
          "iopub.status.busy": "2022-01-19T12:30:12.669271Z",
          "iopub.execute_input": "2022-01-19T12:30:12.669738Z",
          "iopub.status.idle": "2022-01-19T12:30:12.900810Z",
          "shell.execute_reply.started": "2022-01-19T12:30:12.669702Z",
          "shell.execute_reply": "2022-01-19T12:30:12.899305Z"
        },
        "trusted": true,
        "id": "Vk1KuLN0fd1B"
      },
      "execution_count": null,
      "outputs": []
    },
    {
      "cell_type": "code",
      "source": [
        "online_retail.describe()"
      ],
      "metadata": {
        "execution": {
          "iopub.status.busy": "2022-01-19T12:30:16.177090Z",
          "iopub.execute_input": "2022-01-19T12:30:16.177349Z",
          "iopub.status.idle": "2022-01-19T12:30:16.234453Z",
          "shell.execute_reply.started": "2022-01-19T12:30:16.177319Z",
          "shell.execute_reply": "2022-01-19T12:30:16.233665Z"
        },
        "trusted": true,
        "id": "d3Ji_5-Qfd1D"
      },
      "execution_count": null,
      "outputs": []
    },
    {
      "cell_type": "code",
      "source": [
        "online_retail.Quantity.describe()"
      ],
      "metadata": {
        "execution": {
          "iopub.status.busy": "2022-01-19T12:30:20.972444Z",
          "iopub.execute_input": "2022-01-19T12:30:20.972743Z",
          "iopub.status.idle": "2022-01-19T12:30:20.996009Z",
          "shell.execute_reply.started": "2022-01-19T12:30:20.972710Z",
          "shell.execute_reply": "2022-01-19T12:30:20.995201Z"
        },
        "trusted": true,
        "id": "RxGnFGXsfd1F"
      },
      "execution_count": null,
      "outputs": []
    },
    {
      "cell_type": "code",
      "source": [
        "online_retail.CustomerID.value_counts() #counting the number of occurence for CustomerId column"
      ],
      "metadata": {
        "execution": {
          "iopub.status.busy": "2022-01-19T12:30:25.312118Z",
          "iopub.execute_input": "2022-01-19T12:30:25.312583Z",
          "iopub.status.idle": "2022-01-19T12:30:25.329749Z",
          "shell.execute_reply.started": "2022-01-19T12:30:25.312543Z",
          "shell.execute_reply": "2022-01-19T12:30:25.328891Z"
        },
        "trusted": true,
        "id": "6viMNzTqfd1H"
      },
      "execution_count": null,
      "outputs": []
    },
    {
      "cell_type": "code",
      "source": [
        "print(f'Number of rows: {online_retail.shape[0]}; Number of columns: {online_retail.shape[1]}; Number of missing values: {sum(online_retail.isna().sum())}')"
      ],
      "metadata": {
        "execution": {
          "iopub.status.busy": "2022-01-19T12:30:30.394101Z",
          "iopub.execute_input": "2022-01-19T12:30:30.394359Z",
          "iopub.status.idle": "2022-01-19T12:30:30.606531Z",
          "shell.execute_reply.started": "2022-01-19T12:30:30.394329Z",
          "shell.execute_reply": "2022-01-19T12:30:30.605809Z"
        },
        "trusted": true,
        "id": "h6GGMwF5fd1I"
      },
      "execution_count": null,
      "outputs": []
    },
    {
      "cell_type": "markdown",
      "source": [
        "## Lots of missing values - 136534\n",
        "\n",
        "A lot of “CustomerID” is missing from the data, so we will have to remove those rows. -using .notna()\n",
        "\n",
        "Then we,\n",
        "\n",
        "Group “CustomerID” and “StockCode” then sum the “Quantity”. So that we get each customer and each item interactions.\n",
        "\n",
        "If “Quantity” = 0, we change to one.\n",
        "\n",
        "Eliminate negative “Quantity”."
      ],
      "metadata": {
        "id": "vRD4WC8Ifd1K"
      }
    },
    {
      "cell_type": "code",
      "source": [
        "online_retail = online_retail[online_retail['CustomerID'].notna()] #Detect existing (non-missing) values. #only detect rows with customerID values\n",
        "grouped_retail = online_retail[['CustomerID', 'StockCode', 'Description', 'Quantity']].groupby(['CustomerID', 'StockCode', 'Description']).sum().reset_index()\n",
        "grouped_retail.loc[grouped_retail['Quantity'] == 0, ['Quantity']] = 1\n",
        "#elminate negative quantity\n",
        "grouped_retail = grouped_retail.loc[grouped_retail['Quantity'] > 0] #elminate negative quantity"
      ],
      "metadata": {
        "execution": {
          "iopub.status.busy": "2022-01-19T12:30:34.762209Z",
          "iopub.execute_input": "2022-01-19T12:30:34.762730Z",
          "iopub.status.idle": "2022-01-19T12:30:35.014484Z",
          "shell.execute_reply.started": "2022-01-19T12:30:34.762695Z",
          "shell.execute_reply": "2022-01-19T12:30:35.013734Z"
        },
        "trusted": true,
        "id": "EW3GXYGNfd1M"
      },
      "execution_count": null,
      "outputs": []
    },
    {
      "cell_type": "code",
      "source": [
        "grouped_retail"
      ],
      "metadata": {
        "execution": {
          "iopub.status.busy": "2022-01-19T12:30:39.568696Z",
          "iopub.execute_input": "2022-01-19T12:30:39.568987Z",
          "iopub.status.idle": "2022-01-19T12:30:39.583040Z",
          "shell.execute_reply.started": "2022-01-19T12:30:39.568956Z",
          "shell.execute_reply": "2022-01-19T12:30:39.582363Z"
        },
        "trusted": true,
        "id": "prlDYV9yfd1N"
      },
      "execution_count": null,
      "outputs": []
    },
    {
      "cell_type": "code",
      "source": [
        "import plotly.express as px\n",
        "\n",
        "fig =px.histogram(grouped_retail, x='Quantity', title='Distribution of the purchase quantity', nbins=500)\n",
        "fig.show();"
      ],
      "metadata": {
        "execution": {
          "iopub.status.busy": "2022-01-19T12:33:03.940700Z",
          "iopub.execute_input": "2022-01-19T12:33:03.941491Z",
          "iopub.status.idle": "2022-01-19T12:33:06.023013Z",
          "shell.execute_reply.started": "2022-01-19T12:33:03.941442Z",
          "shell.execute_reply": "2022-01-19T12:33:06.022398Z"
        },
        "trusted": true,
        "id": "PfqxwgxQfd1N"
      },
      "execution_count": null,
      "outputs": []
    },
    {
      "cell_type": "markdown",
      "source": [
        "The purchased quantity for majority of the customers is very low, only a few purchase above 2, 000 pieces in one interaction"
      ],
      "metadata": {
        "id": "uxSIEJljfd1P"
      }
    },
    {
      "cell_type": "code",
      "source": [
        "grouped_retail.CustomerID.value_counts() #some rows have been removed"
      ],
      "metadata": {
        "execution": {
          "iopub.status.busy": "2022-01-19T12:30:51.322274Z",
          "iopub.execute_input": "2022-01-19T12:30:51.322535Z",
          "iopub.status.idle": "2022-01-19T12:30:51.339507Z",
          "shell.execute_reply.started": "2022-01-19T12:30:51.322505Z",
          "shell.execute_reply": "2022-01-19T12:30:51.338685Z"
        },
        "trusted": true,
        "id": "66SO9yKGfd1P"
      },
      "execution_count": null,
      "outputs": []
    },
    {
      "cell_type": "code",
      "source": [
        "print(f'Number of unique customers: {grouped_retail.CustomerID.nunique()}')\n",
        "print(f'Number of unique items: {grouped_retail.StockCode.nunique()}')\n",
        "\n",
        "print(f'Average purchase quantity per interaction: {int(grouped_retail.Quantity.mean())}')\n",
        "print(f'Minimum purchase quantity per interaction: {grouped_retail.Quantity.min()}')\n",
        "print(f'Maximum purchase quantity per interaction: {grouped_retail.Quantity.max()}')"
      ],
      "metadata": {
        "execution": {
          "iopub.status.busy": "2022-01-19T12:30:54.900493Z",
          "iopub.execute_input": "2022-01-19T12:30:54.901167Z",
          "iopub.status.idle": "2022-01-19T12:30:54.923745Z",
          "shell.execute_reply.started": "2022-01-19T12:30:54.901129Z",
          "shell.execute_reply": "2022-01-19T12:30:54.922981Z"
        },
        "trusted": true,
        "id": "6KDBBIICfd1Q"
      },
      "execution_count": null,
      "outputs": []
    },
    {
      "cell_type": "code",
      "source": [
        "import seaborn as sns\n",
        "sns.countplot(online_retail['CustomerID'])"
      ],
      "metadata": {
        "execution": {
          "iopub.status.busy": "2022-01-19T12:30:58.262980Z",
          "iopub.execute_input": "2022-01-19T12:30:58.263524Z",
          "iopub.status.idle": "2022-01-19T12:31:53.786195Z",
          "shell.execute_reply.started": "2022-01-19T12:30:58.263484Z",
          "shell.execute_reply": "2022-01-19T12:31:53.785500Z"
        },
        "trusted": true,
        "id": "tgrc_vN6fd1R"
      },
      "execution_count": null,
      "outputs": []
    },
    {
      "cell_type": "code",
      "source": [
        "sns.countplot(grouped_retail['CustomerID'])"
      ],
      "metadata": {
        "execution": {
          "iopub.status.busy": "2022-01-19T12:32:02.209228Z",
          "iopub.execute_input": "2022-01-19T12:32:02.209490Z",
          "iopub.status.idle": "2022-01-19T12:32:58.126175Z",
          "shell.execute_reply.started": "2022-01-19T12:32:02.209460Z",
          "shell.execute_reply": "2022-01-19T12:32:58.125477Z"
        },
        "trusted": true,
        "id": "Cau4MFW_fd1S"
      },
      "execution_count": null,
      "outputs": []
    },
    {
      "cell_type": "markdown",
      "source": [
        "# Implicit Feedback\n",
        "\n",
        "\"Instead of representing an explicit rating, the “Quantity” can represent a “confidence” in terms of how strong the interaction was. Items with a larger number of “Quantity” by a customer can carry more weight in our ratings matrix of “Quantity”.\"\n",
        "\n",
        "1. Let's create numeric “customer_id and “item_id” columns.\n",
        "\n",
        "2. Create two matrices, one for fitting the model (item-customer) and another one for recommendations (customer-item).\n",
        "\n",
        "3. Initialise the Alternating Least Squares (ALS) recommendation model.\n",
        "\n",
        "4. Fit the model using the sparse item-customer matrix.\n",
        "\n",
        "5. We set the type of our matrix to double for the ALS function to run properly."
      ],
      "metadata": {
        "id": "BrJdUsRNfd1T"
      }
    },
    {
      "cell_type": "code",
      "source": [
        "unique_customers = grouped_retail.CustomerID.unique()\n",
        "customer_ids = dict(zip(unique_customers, np.arange(unique_customers.shape[0], dtype=np.int32)))\n",
        "\n",
        "unique_items = grouped_retail.StockCode.unique()\n",
        "item_ids = dict(zip(unique_items, np.arange(unique_items.shape[0], dtype=np.int32)))\n",
        "\n",
        "grouped_retail['customer_id'] = grouped_retail.CustomerID.apply(lambda i: customer_ids[i])\n",
        "grouped_retail['item_id'] = grouped_retail.StockCode.apply(lambda i: item_ids[i])\n",
        "\n",
        "sparse_item_customer = sparse.csr_matrix((grouped_retail['Quantity'].astype(float), (grouped_retail['item_id'], grouped_retail['customer_id'])))\n",
        "sparse_customer_item = sparse.csr_matrix((grouped_retail['Quantity'].astype(float), (grouped_retail['customer_id'], grouped_retail['item_id'])))\n",
        "\n",
        "\n",
        "model = implicit.als.AlternatingLeastSquares(factors=20, regularization=0.1, iterations=50)\n",
        "\n",
        "alpha = 15\n",
        "data = (sparse_item_customer * alpha).astype('double')\n",
        "\n",
        "model.fit(data)"
      ],
      "metadata": {
        "execution": {
          "iopub.status.busy": "2022-01-19T12:33:46.837244Z",
          "iopub.execute_input": "2022-01-19T12:33:46.837506Z",
          "iopub.status.idle": "2022-01-19T12:33:48.954265Z",
          "shell.execute_reply.started": "2022-01-19T12:33:46.837475Z",
          "shell.execute_reply": "2022-01-19T12:33:48.953467Z"
        },
        "trusted": true,
        "id": "wbzPN2Pafd1U"
      },
      "execution_count": null,
      "outputs": []
    },
    {
      "cell_type": "markdown",
      "source": [
        "# Recommendation Findings\n",
        "\n",
        "Let’s start with “WHITE METAL LANTERN”. We found that “item_id” for “WHITE METAL LANTERN” is 1319."
      ],
      "metadata": {
        "id": "e4NuFaprfd1V"
      }
    },
    {
      "cell_type": "code",
      "source": [
        "grouped_retail.loc[grouped_retail['item_id'] == 1319].head()"
      ],
      "metadata": {
        "execution": {
          "iopub.status.busy": "2022-01-19T12:33:57.593689Z",
          "iopub.execute_input": "2022-01-19T12:33:57.593952Z",
          "iopub.status.idle": "2022-01-19T12:33:57.609860Z",
          "shell.execute_reply.started": "2022-01-19T12:33:57.593921Z",
          "shell.execute_reply": "2022-01-19T12:33:57.608793Z"
        },
        "trusted": true,
        "id": "lqmc9d5pfd1V"
      },
      "execution_count": null,
      "outputs": []
    },
    {
      "cell_type": "markdown",
      "source": [
        "Finding the 10 most similar items to “WHITE METAL LANTERN”.\n",
        "\n",
        "Get the customer and item vectors from our trained model.\n",
        "\n",
        "Calculate the vector norms.\n",
        "\n",
        "Calculate the similarity score.\n",
        "\n",
        "Get the top 10 items.\n",
        "\n",
        "Create a list of item-score tuples of most similar items with this item."
      ],
      "metadata": {
        "id": "EORJs6trfd1W"
      }
    },
    {
      "cell_type": "code",
      "source": [
        "item_id = 1319\n",
        "n_similar = 10\n",
        "\n",
        "item_vecs = model.item_factors\n",
        "customer_vecs = model.user_factors\n",
        "\n",
        "#item_norms = np.sqrt((item_vecs * item_vecs).sum(axis=1))\n",
        "item_norms = np.sqrt((item_vecs * item_vecs).sum(axis=1))\n",
        "\n",
        "scores = item_vecs.dot(item_vecs[item_id]) / item_norms\n",
        "top_idx = np.argpartition(scores, -n_similar)[-n_similar:]\n",
        "similar = sorted(zip(top_idx, scores[top_idx] / item_norms[item_id]), key=lambda x: -x[1])\n",
        "\n",
        "for item in similar:\n",
        "    idx, score = item\n",
        "    print(grouped_retail.Description.loc[grouped_retail.item_id == idx].iloc[0])"
      ],
      "metadata": {
        "execution": {
          "iopub.status.busy": "2022-01-19T12:38:21.793641Z",
          "iopub.execute_input": "2022-01-19T12:38:21.794124Z",
          "iopub.status.idle": "2022-01-19T12:38:21.819383Z",
          "shell.execute_reply.started": "2022-01-19T12:38:21.794088Z",
          "shell.execute_reply": "2022-01-19T12:38:21.818588Z"
        },
        "trusted": true,
        "id": "ieWp5OMOfd1W"
      },
      "execution_count": null,
      "outputs": []
    },
    {
      "cell_type": "code",
      "source": [
        "def recommend(customer_id, sparse_customer_item, customer_vecs, item_vecs, num_items=10):\n",
        "    \n",
        "    customer_interactions = sparse_customer_item[customer_id,:].toarray()\n",
        "    customer_interactions = customer_interactions.reshape(-1) + 1\n",
        "    customer_interactions[customer_interactions > 1] = 0\n",
        "    \n",
        "    rec_vector = customer_vecs[customer_id,:].dot(item_vecs.T).toarray()\n",
        "    \n",
        "    min_max = MinMaxScaler()\n",
        "    rec_vector_scaled = min_max.fit_transform(rec_vector.reshape(-1,1))[:,0]\n",
        "    recommend_vector = customer_interactions * rec_vector_scaled\n",
        "\n",
        "    item_idx = np.argsort(recommend_vector)[::-1][:num_items]\n",
        "    \n",
        "    descriptions = []\n",
        "    scores = []\n",
        "\n",
        "    for idx in item_idx:\n",
        "        descriptions.append(grouped_retail.Description.loc[grouped_retail.item_id == idx].iloc[0])\n",
        "        scores.append(recommend_vector[idx])\n",
        "\n",
        "    recommendations = pd.DataFrame({'description': descriptions, 'score': scores})\n",
        "\n",
        "    return recommendations\n",
        "    \n",
        "customer_vecs = sparse.csr_matrix(model.user_factors)\n",
        "item_vecs = sparse.csr_matrix(model.item_factors)\n",
        "# Create recommendations for customer with id 2\n",
        "customer_id = 2\n",
        "recommendations = recommend(customer_id, sparse_customer_item, customer_vecs, item_vecs)\n",
        "\n",
        "print(recommendations)"
      ],
      "metadata": {
        "execution": {
          "iopub.status.busy": "2022-01-19T12:40:57.267219Z",
          "iopub.execute_input": "2022-01-19T12:40:57.267489Z",
          "iopub.status.idle": "2022-01-19T12:40:57.296475Z",
          "shell.execute_reply.started": "2022-01-19T12:40:57.267459Z",
          "shell.execute_reply": "2022-01-19T12:40:57.295695Z"
        },
        "trusted": true,
        "id": "ZnHIewpgfd1X"
      },
      "execution_count": null,
      "outputs": []
    },
    {
      "cell_type": "markdown",
      "source": [
        "So we have top 10 recommendations for customer_id 2. \n",
        "\n",
        "Let’s get top 20 items this customer has purchased."
      ],
      "metadata": {
        "id": "gFgr7EtMfd1Y"
      }
    },
    {
      "cell_type": "code",
      "source": [
        "grouped_retail.loc[grouped_retail['customer_id'] == 2].sort_values('Quantity', ascending=False)[['customer_id', 'Description', 'Quantity']].head(20)\n"
      ],
      "metadata": {
        "execution": {
          "iopub.status.busy": "2022-01-19T12:41:20.418606Z",
          "iopub.execute_input": "2022-01-19T12:41:20.419431Z",
          "iopub.status.idle": "2022-01-19T12:41:20.434173Z",
          "shell.execute_reply.started": "2022-01-19T12:41:20.419394Z",
          "shell.execute_reply": "2022-01-19T12:41:20.433490Z"
        },
        "trusted": true,
        "id": "7bPVYTFvfd1Y"
      },
      "execution_count": null,
      "outputs": []
    },
    {
      "cell_type": "markdown",
      "source": [
        "### **Conclusions**\n",
        "\n",
        "We can see the customer’s top purchases which are; lip glosses, designed tissues and holiday cake cases, etc (looks like a seasonal/anniversary ocassion/party). \n",
        "\n",
        "Items recommended to the customer includes fruit straws, gift boxes, cocktail parasols, etc mainly for folks hosting anniversary ocassion/party and the likes.\n",
        "\n",
        "Remember **“Customers who bought this item also bought…”?**\n",
        "\n",
        "\n",
        "Please note:\n",
        "\n",
        "\"The best evaluation metrics for a recommender system is how much the system adds value to the customers and/or business, whether the system increase sales and profits.\"\n",
        "\n",
        "Performing some kind of online A/B testing to evaluate these metrics would help.\n",
        "\n",
        "Though, there are other common metrics for evaluating the performance of a recommender in isolation.\n",
        "\n",
        "In this tututorial, we were able to calculate the **AUC** for each customer in our training set that had at least one item purchased. And [AUC](https://developers.google.com/machine-learning/crash-course/classification/roc-and-auc) for the most popular items for the customers to compare.\""
      ],
      "metadata": {
        "id": "LZfqn6f7fd1Z"
      }
    },
    {
      "cell_type": "markdown",
      "source": [
        "**Reference**\n",
        "\n",
        "[Source 1](https://actsusanli.medium.com/building-a-recommender-system-with-implicit-feedback-datasets-using-alternating-least-squares-64d4f5ba3c57)"
      ],
      "metadata": {
        "id": "JaD4j9D2fd1a"
      }
    },
    {
      "cell_type": "code",
      "source": [
        ""
      ],
      "metadata": {
        "id": "6wlqkPMQfd1a"
      },
      "execution_count": null,
      "outputs": []
    }
  ]
}